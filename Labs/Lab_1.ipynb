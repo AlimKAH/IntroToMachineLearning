{
  "nbformat": 4,
  "nbformat_minor": 0,
  "metadata": {
    "colab": {
      "provenance": []
    },
    "kernelspec": {
      "name": "python3",
      "display_name": "Python 3"
    },
    "language_info": {
      "name": "python"
    }
  },
  "cells": [
    {
      "cell_type": "markdown",
      "source": [
        "# Natural Language Processing. Lab 1\n",
        "**Professor**: Vladimir Ivanov\n",
        "\n",
        "**Teaching Assistant**: Aidar Valeev\n",
        "\n",
        "**Labs**:\n",
        "- Wednesdays, 16:10 - 17:40\n",
        "- Mondays, 16:10 - 17:40\n",
        "- you can visit either one\n",
        "\n",
        "**Deadline**: Tuesday, 31 January 2023, 11:59 PM\n",
        "\n",
        "**Grading**:\n",
        "- Solve any two tasks to get full lab point.\n",
        "- Solve 3 or 4 tasks for extra 0.5 or 1 bonus point, respectively.\n",
        "- Labs are part of Lab participation, one lab weighs ~0.5% of the course total."
      ],
      "metadata": {
        "id": "zptEmTA4e49S"
      }
    },
    {
      "cell_type": "markdown",
      "source": [
        "## Task 1\n",
        "Write a python program that does the following :\n",
        "1. retrieve content of a wikipedia page on a topic of your choice - english \n",
        "  - raw text or html format - is up to you\n",
        "  - you can copy paste manually\n",
        "2. retrieve content of a wikipedia page on a topic of your choice - language of your choice (i.e russian, french) (optional)\n",
        "3. preprocess the data \n",
        "  - any transformations that you need to accomplish 4th part\n",
        "4. print \n",
        "  - distinct words statatistics\n",
        "  - number of chapters\n",
        "  - number of sentences\n",
        "  - number of numerical values\n",
        "  - number of entities with links (optional)"
      ],
      "metadata": {
        "id": "xLTldrN-vmIP"
      }
    },
    {
      "cell_type": "code",
      "source": [
        "# Code Here"
      ],
      "metadata": {
        "id": "bTndZ9m0vjZd"
      },
      "execution_count": null,
      "outputs": []
    },
    {
      "cell_type": "markdown",
      "source": [
        "## Task 2\n",
        "\n",
        "Write a python program that does the following :\n",
        "1. Retrieve data from sklearn --> (from sklearn.datasets import fetch_20newsgroups)\n",
        "2. Preprocess the data \n",
        "3. Do classification using any classical machine learning method\n",
        "  - TfidfVectorizer from sklearn might be a good choice"
      ],
      "metadata": {
        "id": "Q-iN1Xgnv4Vq"
      }
    },
    {
      "cell_type": "code",
      "source": [],
      "metadata": {
        "id": "O8dX2rrLwOPT"
      },
      "execution_count": null,
      "outputs": []
    },
    {
      "cell_type": "markdown",
      "source": [
        "## Task 3\n",
        "\n",
        "Write a python program that does the following :\n",
        "1. Preprocess the given data\n",
        "2. Find entities in the data using regular expressions: dates, names, locations\n",
        "3. Anonymise the names of US presidents\n",
        "4. Highlight the locations\n",
        "5. Sort by dates"
      ],
      "metadata": {
        "id": "p7ucTXjvhHIn"
      }
    },
    {
      "cell_type": "code",
      "source": [
        "TEXT = [\n",
        "    \"Barack Obama was the 44th president of the US and he followed George W. Bush and was followed by Donald Trump in 2017\",\n",
        "    \"As a young man, George H.W. Bush served in World War II as a fighter pilot. In 1944, he was shot down and had to parachute to safety.\",\n",
        "    \"Before he was president, George W. Bush was a cheerleader, a fraternity brother, an oilman, an owner of a professional baseball team, and a governor. After leaving office in 2009, Bush learned to paint.\",\n",
        "    \"Here's something else you probably didn't know about John Adams: He died on the Fourth of July. And he wasn't the only commander in chief to do so. In fact, three of the nation's five founding fathers—Adams, Thomas Jefferson, and James Monroe—died on Independence Day. Adams and Jefferson even passed on the same exact day: July 4, 1826, which happened to be the 50th anniversary of the adoption of the Declaration of Independence.\",\n",
        "    \"At 6 feet 4 inches tall, Abraham Lincoln and Lyndon B. Johnson were America's tallest presidents. But what about America's shortest president? That distinction goes to founding father James Madison (1809-1817), who, at 5 feet 4 inches tall, was a full foot shorter than his tallest peers.\",\n",
        "    \"That changed, however, in October 1860, when Lincoln received a letter from an 11-year-old girl named Grace Bedell. 'If you will let your whiskers grow I will try and get [my brothers] to vote for you,' Bedell wrote to Lincoln. 'You would look a great deal better for your face is so thin. All the ladies like whiskers and they would tease their husbands to vote for you and then you would be president.'\",\n",
        "    \"Richard Nixon was hardly the first president who liked to unwind by rolling a few strikes. Harry S. Truman also enjoyed bowling, and opened the first White House bowling alley in 1947. \",\n",
        "    \"If you had to bet on which U.S. president was the biggest movie fan, you'd probably put your money on America's actor-turned-president, Ronald Reagan (1981-1989). And that would be a great guess. Reagan reportedly watched 363 movies during his two terms in office.\",\n",
        "    \"Thomas Jefferson offered to sell his personal library when the Library of Congress was burned by the British during the War of 1812. He sold them 6487 books from his own collection, the largest in America at the time.\",\n",
        "    \"Born in New York in 1782, Martin Van Buren was the first president to have been born after the American Revolution, technically making him the first American-born president.\",\n",
        "    \"Benjamin Harrison had a tight-knit family and loved to amuse and dote on his grandchildren. He put up the first recorded White House Christmas tree in 1889, and was known to put on the Santa suit for entertainment.\",\n",
        "    \"A 16-year-old Bill Clinton managed to shake hands with President John F. Kennedy at a Boys Nation event in 1963. This would take place just four months before Kennedy's assassination.\",\n",
        "    \"In 1993—two years before he became the governor of Texas—George W. Bush ran the Houston marathon, finishing with a time of 3:44:52. He is the only president to have ever run a marathon.\",\n",
        "]"
      ],
      "metadata": {
        "id": "hWgOrMS0EATE"
      },
      "execution_count": null,
      "outputs": []
    },
    {
      "cell_type": "code",
      "source": [
        "LOCATIONS = [...]\n",
        "NAMES = [...]\n",
        "\n"
      ],
      "metadata": {
        "id": "uh9i4JE4hJx0"
      },
      "execution_count": null,
      "outputs": []
    },
    {
      "cell_type": "markdown",
      "source": [
        "## Task 4\n",
        "\n",
        "Write a python program that does the following :\n",
        "1. Preprocess the data from Task 3\n",
        "2. Find entities in the data using [Gazetteers](https://gatenlp.readthedocs.io/en/latest/gazetteers/) from gatenlp: dates, names, locations\n",
        "3. Anonymise the names of US presidents\n",
        "4. Highlight the locations\n",
        "5. Sort by dates\n"
      ],
      "metadata": {
        "id": "qWy26ZEfpeRk"
      }
    },
    {
      "cell_type": "code",
      "source": [],
      "metadata": {
        "id": "ds_tRbtTJm5e"
      },
      "execution_count": null,
      "outputs": []
    }
  ]
}